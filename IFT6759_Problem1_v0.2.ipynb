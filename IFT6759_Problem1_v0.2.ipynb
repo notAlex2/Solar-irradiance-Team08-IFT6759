{
 "cells": [
  {
   "cell_type": "code",
   "execution_count": 1,
   "metadata": {},
   "outputs": [],
   "source": [
    "import numpy as np\n",
    "import tensorflow as tf\n",
    "import pandas as pd\n",
    "import pathlib\n",
    "import matplotlib.pyplot as plt\n",
    "import pandas as pd\n",
    "import numpy as np\n",
    "import pickle"
   ]
  },
  {
   "cell_type": "code",
   "execution_count": 2,
   "metadata": {},
   "outputs": [
    {
     "data": {
      "text/plain": [
       "'1.0.0'"
      ]
     },
     "execution_count": 2,
     "metadata": {},
     "output_type": "execute_result"
    }
   ],
   "source": [
    "pd.__version__"
   ]
  },
  {
   "cell_type": "code",
   "execution_count": 3,
   "metadata": {},
   "outputs": [],
   "source": [
    "data = pd.read_pickle(\"./catalog.helios.public.20100101-20160101.pkl\")"
   ]
  },
  {
   "cell_type": "code",
   "execution_count": 4,
   "metadata": {},
   "outputs": [
    {
     "data": {
      "text/html": [
       "<div>\n",
       "<style scoped>\n",
       "    .dataframe tbody tr th:only-of-type {\n",
       "        vertical-align: middle;\n",
       "    }\n",
       "\n",
       "    .dataframe tbody tr th {\n",
       "        vertical-align: top;\n",
       "    }\n",
       "\n",
       "    .dataframe thead th {\n",
       "        text-align: right;\n",
       "    }\n",
       "</style>\n",
       "<table border=\"1\" class=\"dataframe\">\n",
       "  <thead>\n",
       "    <tr style=\"text-align: right;\">\n",
       "      <th></th>\n",
       "      <th>ncdf_path</th>\n",
       "      <th>hdf5_8bit_path</th>\n",
       "      <th>hdf5_8bit_offset</th>\n",
       "      <th>hdf5_16bit_path</th>\n",
       "      <th>hdf5_16bit_offset</th>\n",
       "      <th>BND_DAYTIME</th>\n",
       "      <th>BND_CLEARSKY_GHI</th>\n",
       "      <th>BND_CLOUDINESS</th>\n",
       "      <th>BND_GHI</th>\n",
       "      <th>TBL_DAYTIME</th>\n",
       "      <th>...</th>\n",
       "      <th>GWN_CLOUDINESS</th>\n",
       "      <th>GWN_GHI</th>\n",
       "      <th>PSU_DAYTIME</th>\n",
       "      <th>PSU_CLEARSKY_GHI</th>\n",
       "      <th>PSU_CLOUDINESS</th>\n",
       "      <th>PSU_GHI</th>\n",
       "      <th>SXF_DAYTIME</th>\n",
       "      <th>SXF_CLEARSKY_GHI</th>\n",
       "      <th>SXF_CLOUDINESS</th>\n",
       "      <th>SXF_GHI</th>\n",
       "    </tr>\n",
       "    <tr>\n",
       "      <th>iso-datetime</th>\n",
       "      <th></th>\n",
       "      <th></th>\n",
       "      <th></th>\n",
       "      <th></th>\n",
       "      <th></th>\n",
       "      <th></th>\n",
       "      <th></th>\n",
       "      <th></th>\n",
       "      <th></th>\n",
       "      <th></th>\n",
       "      <th></th>\n",
       "      <th></th>\n",
       "      <th></th>\n",
       "      <th></th>\n",
       "      <th></th>\n",
       "      <th></th>\n",
       "      <th></th>\n",
       "      <th></th>\n",
       "      <th></th>\n",
       "      <th></th>\n",
       "      <th></th>\n",
       "    </tr>\n",
       "  </thead>\n",
       "  <tbody>\n",
       "    <tr>\n",
       "      <th>2010-01-01 00:00:00</th>\n",
       "      <td>nan</td>\n",
       "      <td>nan</td>\n",
       "      <td>NaN</td>\n",
       "      <td>nan</td>\n",
       "      <td>NaN</td>\n",
       "      <td>0.0</td>\n",
       "      <td>0.0</td>\n",
       "      <td>night</td>\n",
       "      <td>-4.1</td>\n",
       "      <td>0.0</td>\n",
       "      <td>...</td>\n",
       "      <td>night</td>\n",
       "      <td>-7.500000</td>\n",
       "      <td>0.0</td>\n",
       "      <td>0.0</td>\n",
       "      <td>night</td>\n",
       "      <td>-1.500000</td>\n",
       "      <td>0.0</td>\n",
       "      <td>0.0</td>\n",
       "      <td>night</td>\n",
       "      <td>-3.800000</td>\n",
       "    </tr>\n",
       "    <tr>\n",
       "      <th>2010-01-01 00:15:00</th>\n",
       "      <td>nan</td>\n",
       "      <td>nan</td>\n",
       "      <td>NaN</td>\n",
       "      <td>nan</td>\n",
       "      <td>NaN</td>\n",
       "      <td>0.0</td>\n",
       "      <td>0.0</td>\n",
       "      <td>night</td>\n",
       "      <td>-4.1</td>\n",
       "      <td>0.0</td>\n",
       "      <td>...</td>\n",
       "      <td>night</td>\n",
       "      <td>-7.493333</td>\n",
       "      <td>0.0</td>\n",
       "      <td>0.0</td>\n",
       "      <td>night</td>\n",
       "      <td>-1.446667</td>\n",
       "      <td>0.0</td>\n",
       "      <td>0.0</td>\n",
       "      <td>night</td>\n",
       "      <td>-3.893333</td>\n",
       "    </tr>\n",
       "    <tr>\n",
       "      <th>2010-01-01 00:30:00</th>\n",
       "      <td>nan</td>\n",
       "      <td>nan</td>\n",
       "      <td>NaN</td>\n",
       "      <td>nan</td>\n",
       "      <td>NaN</td>\n",
       "      <td>0.0</td>\n",
       "      <td>0.0</td>\n",
       "      <td>night</td>\n",
       "      <td>-4.1</td>\n",
       "      <td>0.0</td>\n",
       "      <td>...</td>\n",
       "      <td>night</td>\n",
       "      <td>-7.420000</td>\n",
       "      <td>0.0</td>\n",
       "      <td>0.0</td>\n",
       "      <td>night</td>\n",
       "      <td>-1.766667</td>\n",
       "      <td>0.0</td>\n",
       "      <td>0.0</td>\n",
       "      <td>night</td>\n",
       "      <td>-4.166667</td>\n",
       "    </tr>\n",
       "    <tr>\n",
       "      <th>2010-01-01 00:45:00</th>\n",
       "      <td>nan</td>\n",
       "      <td>nan</td>\n",
       "      <td>NaN</td>\n",
       "      <td>nan</td>\n",
       "      <td>NaN</td>\n",
       "      <td>0.0</td>\n",
       "      <td>0.0</td>\n",
       "      <td>night</td>\n",
       "      <td>-4.1</td>\n",
       "      <td>0.0</td>\n",
       "      <td>...</td>\n",
       "      <td>night</td>\n",
       "      <td>-7.533333</td>\n",
       "      <td>0.0</td>\n",
       "      <td>0.0</td>\n",
       "      <td>night</td>\n",
       "      <td>-2.033333</td>\n",
       "      <td>0.0</td>\n",
       "      <td>0.0</td>\n",
       "      <td>night</td>\n",
       "      <td>-4.040000</td>\n",
       "    </tr>\n",
       "    <tr>\n",
       "      <th>2010-01-01 01:00:00</th>\n",
       "      <td>nan</td>\n",
       "      <td>nan</td>\n",
       "      <td>NaN</td>\n",
       "      <td>nan</td>\n",
       "      <td>NaN</td>\n",
       "      <td>0.0</td>\n",
       "      <td>0.0</td>\n",
       "      <td>night</td>\n",
       "      <td>-4.1</td>\n",
       "      <td>0.0</td>\n",
       "      <td>...</td>\n",
       "      <td>night</td>\n",
       "      <td>-7.586667</td>\n",
       "      <td>0.0</td>\n",
       "      <td>0.0</td>\n",
       "      <td>night</td>\n",
       "      <td>-2.006667</td>\n",
       "      <td>0.0</td>\n",
       "      <td>0.0</td>\n",
       "      <td>night</td>\n",
       "      <td>-4.133333</td>\n",
       "    </tr>\n",
       "  </tbody>\n",
       "</table>\n",
       "<p>5 rows × 33 columns</p>\n",
       "</div>"
      ],
      "text/plain": [
       "                    ncdf_path hdf5_8bit_path hdf5_8bit_offset hdf5_16bit_path  \\\n",
       "iso-datetime                                                                    \n",
       "2010-01-01 00:00:00       nan            nan              NaN             nan   \n",
       "2010-01-01 00:15:00       nan            nan              NaN             nan   \n",
       "2010-01-01 00:30:00       nan            nan              NaN             nan   \n",
       "2010-01-01 00:45:00       nan            nan              NaN             nan   \n",
       "2010-01-01 01:00:00       nan            nan              NaN             nan   \n",
       "\n",
       "                    hdf5_16bit_offset  BND_DAYTIME  BND_CLEARSKY_GHI  \\\n",
       "iso-datetime                                                           \n",
       "2010-01-01 00:00:00               NaN          0.0               0.0   \n",
       "2010-01-01 00:15:00               NaN          0.0               0.0   \n",
       "2010-01-01 00:30:00               NaN          0.0               0.0   \n",
       "2010-01-01 00:45:00               NaN          0.0               0.0   \n",
       "2010-01-01 01:00:00               NaN          0.0               0.0   \n",
       "\n",
       "                    BND_CLOUDINESS  BND_GHI  TBL_DAYTIME  ...  GWN_CLOUDINESS  \\\n",
       "iso-datetime                                              ...                   \n",
       "2010-01-01 00:00:00          night     -4.1          0.0  ...           night   \n",
       "2010-01-01 00:15:00          night     -4.1          0.0  ...           night   \n",
       "2010-01-01 00:30:00          night     -4.1          0.0  ...           night   \n",
       "2010-01-01 00:45:00          night     -4.1          0.0  ...           night   \n",
       "2010-01-01 01:00:00          night     -4.1          0.0  ...           night   \n",
       "\n",
       "                      GWN_GHI  PSU_DAYTIME  PSU_CLEARSKY_GHI  PSU_CLOUDINESS  \\\n",
       "iso-datetime                                                                   \n",
       "2010-01-01 00:00:00 -7.500000          0.0               0.0           night   \n",
       "2010-01-01 00:15:00 -7.493333          0.0               0.0           night   \n",
       "2010-01-01 00:30:00 -7.420000          0.0               0.0           night   \n",
       "2010-01-01 00:45:00 -7.533333          0.0               0.0           night   \n",
       "2010-01-01 01:00:00 -7.586667          0.0               0.0           night   \n",
       "\n",
       "                      PSU_GHI  SXF_DAYTIME  SXF_CLEARSKY_GHI  SXF_CLOUDINESS  \\\n",
       "iso-datetime                                                                   \n",
       "2010-01-01 00:00:00 -1.500000          0.0               0.0           night   \n",
       "2010-01-01 00:15:00 -1.446667          0.0               0.0           night   \n",
       "2010-01-01 00:30:00 -1.766667          0.0               0.0           night   \n",
       "2010-01-01 00:45:00 -2.033333          0.0               0.0           night   \n",
       "2010-01-01 01:00:00 -2.006667          0.0               0.0           night   \n",
       "\n",
       "                      SXF_GHI  \n",
       "iso-datetime                   \n",
       "2010-01-01 00:00:00 -3.800000  \n",
       "2010-01-01 00:15:00 -3.893333  \n",
       "2010-01-01 00:30:00 -4.166667  \n",
       "2010-01-01 00:45:00 -4.040000  \n",
       "2010-01-01 01:00:00 -4.133333  \n",
       "\n",
       "[5 rows x 33 columns]"
      ]
     },
     "execution_count": 4,
     "metadata": {},
     "output_type": "execute_result"
    }
   ],
   "source": [
    "data.head()"
   ]
  },
  {
   "cell_type": "code",
   "execution_count": 5,
   "metadata": {},
   "outputs": [
    {
     "data": {
      "text/plain": [
       "Index(['ncdf_path', 'hdf5_8bit_path', 'hdf5_8bit_offset', 'hdf5_16bit_path',\n",
       "       'hdf5_16bit_offset', 'BND_DAYTIME', 'BND_CLEARSKY_GHI',\n",
       "       'BND_CLOUDINESS', 'BND_GHI', 'TBL_DAYTIME', 'TBL_CLEARSKY_GHI',\n",
       "       'TBL_CLOUDINESS', 'TBL_GHI', 'DRA_DAYTIME', 'DRA_CLEARSKY_GHI',\n",
       "       'DRA_CLOUDINESS', 'DRA_GHI', 'FPK_DAYTIME', 'FPK_CLEARSKY_GHI',\n",
       "       'FPK_CLOUDINESS', 'FPK_GHI', 'GWN_DAYTIME', 'GWN_CLEARSKY_GHI',\n",
       "       'GWN_CLOUDINESS', 'GWN_GHI', 'PSU_DAYTIME', 'PSU_CLEARSKY_GHI',\n",
       "       'PSU_CLOUDINESS', 'PSU_GHI', 'SXF_DAYTIME', 'SXF_CLEARSKY_GHI',\n",
       "       'SXF_CLOUDINESS', 'SXF_GHI'],\n",
       "      dtype='object')"
      ]
     },
     "execution_count": 5,
     "metadata": {},
     "output_type": "execute_result"
    }
   ],
   "source": [
    "data.columns"
   ]
  },
  {
   "cell_type": "code",
   "execution_count": 6,
   "metadata": {},
   "outputs": [],
   "source": [
    "#Cloudiness flag\n",
    "#The cloudiness flag may help you determine whether your model truly outperforms the \"clear sky\" estimate by allowing you to target \n",
    "#only cloudy days for evaluation and comparison. You could also use it to compute general statistics on the input data, or even to create a \n",
    "#classification sub-task inside your model.\n",
    "#In the dataframe, this flag can only take five different values: \"night\", \"cloudy\", \"slightly cloudy\", \"clear\", and \"variable\".\n",
    "\n",
    "#Clearsky_GHI \n",
    "#The clearsky GHI estimates provided in the dataframe are based on the the pvlib package. The model used is the one described by Ineichen and Perez (2002).\n",
    "#Month-wise Linke turbidity factors are queried for each station via latitude/longitude.\n",
    "\n",
    "#GHI: \n",
    "#the real (measured) GHI at the station. This is the \"ground truth\" that your model should predict, \n",
    "#It will obviously not be available in the dataframe used for the final test. \n",
    "#Remember: this value is unavailable (\"NaN\") at at regular intervals (roughly every three hours starting at midtnight every day)\n",
    "#but it might also be missing at other random timestamps.\n",
    "\n",
    "#DAYTIME: \n",
    "#a binary flag (0/1) indicating whether it is day time at the station or not.\n"
   ]
  },
  {
   "cell_type": "code",
   "execution_count": 7,
   "metadata": {},
   "outputs": [
    {
     "data": {
      "text/plain": [
       "(210336, 33)"
      ]
     },
     "execution_count": 7,
     "metadata": {},
     "output_type": "execute_result"
    }
   ],
   "source": [
    "data.shape"
   ]
  },
  {
   "cell_type": "code",
   "execution_count": 8,
   "metadata": {},
   "outputs": [
    {
     "name": "stdout",
     "output_type": "stream",
     "text": [
      "<class 'pandas.core.frame.DataFrame'>\n",
      "DatetimeIndex: 210336 entries, 2010-01-01 00:00:00 to 2015-12-31 23:45:00\n",
      "Data columns (total 33 columns):\n",
      " #   Column             Non-Null Count   Dtype  \n",
      "---  ------             --------------   -----  \n",
      " 0   ncdf_path          210336 non-null  object \n",
      " 1   hdf5_8bit_path     210336 non-null  object \n",
      " 2   hdf5_8bit_offset   210304 non-null  object \n",
      " 3   hdf5_16bit_path    210336 non-null  object \n",
      " 4   hdf5_16bit_offset  210304 non-null  object \n",
      " 5   BND_DAYTIME        210336 non-null  float64\n",
      " 6   BND_CLEARSKY_GHI   210100 non-null  float64\n",
      " 7   BND_CLOUDINESS     210100 non-null  object \n",
      " 8   BND_GHI            209948 non-null  float64\n",
      " 9   TBL_DAYTIME        210336 non-null  float64\n",
      " 10  TBL_CLEARSKY_GHI   210136 non-null  float64\n",
      " 11  TBL_CLOUDINESS     210136 non-null  object \n",
      " 12  TBL_GHI            209622 non-null  float64\n",
      " 13  DRA_DAYTIME        210336 non-null  float64\n",
      " 14  DRA_CLEARSKY_GHI   210032 non-null  float64\n",
      " 15  DRA_CLOUDINESS     210032 non-null  object \n",
      " 16  DRA_GHI            208833 non-null  float64\n",
      " 17  FPK_DAYTIME        210336 non-null  float64\n",
      " 18  FPK_CLEARSKY_GHI   210080 non-null  float64\n",
      " 19  FPK_CLOUDINESS     210080 non-null  object \n",
      " 20  FPK_GHI            209513 non-null  float64\n",
      " 21  GWN_DAYTIME        210336 non-null  float64\n",
      " 22  GWN_CLEARSKY_GHI   207601 non-null  float64\n",
      " 23  GWN_CLOUDINESS     207601 non-null  object \n",
      " 24  GWN_GHI            205274 non-null  float64\n",
      " 25  PSU_DAYTIME        210336 non-null  float64\n",
      " 26  PSU_CLEARSKY_GHI   209799 non-null  float64\n",
      " 27  PSU_CLOUDINESS     209799 non-null  object \n",
      " 28  PSU_GHI            209571 non-null  float64\n",
      " 29  SXF_DAYTIME        210336 non-null  float64\n",
      " 30  SXF_CLEARSKY_GHI   209773 non-null  float64\n",
      " 31  SXF_CLOUDINESS     209773 non-null  object \n",
      " 32  SXF_GHI            209015 non-null  float64\n",
      "dtypes: float64(21), object(12)\n",
      "memory usage: 54.6+ MB\n"
     ]
    }
   ],
   "source": [
    "data.info()"
   ]
  },
  {
   "cell_type": "code",
   "execution_count": 9,
   "metadata": {},
   "outputs": [
    {
     "data": {
      "text/plain": [
       "ncdf_path               0\n",
       "hdf5_8bit_path          0\n",
       "hdf5_8bit_offset       32\n",
       "hdf5_16bit_path         0\n",
       "hdf5_16bit_offset      32\n",
       "BND_DAYTIME             0\n",
       "BND_CLEARSKY_GHI      236\n",
       "BND_CLOUDINESS        236\n",
       "BND_GHI               388\n",
       "TBL_DAYTIME             0\n",
       "TBL_CLEARSKY_GHI      200\n",
       "TBL_CLOUDINESS        200\n",
       "TBL_GHI               714\n",
       "DRA_DAYTIME             0\n",
       "DRA_CLEARSKY_GHI      304\n",
       "DRA_CLOUDINESS        304\n",
       "DRA_GHI              1503\n",
       "FPK_DAYTIME             0\n",
       "FPK_CLEARSKY_GHI      256\n",
       "FPK_CLOUDINESS        256\n",
       "FPK_GHI               823\n",
       "GWN_DAYTIME             0\n",
       "GWN_CLEARSKY_GHI     2735\n",
       "GWN_CLOUDINESS       2735\n",
       "GWN_GHI              5062\n",
       "PSU_DAYTIME             0\n",
       "PSU_CLEARSKY_GHI      537\n",
       "PSU_CLOUDINESS        537\n",
       "PSU_GHI               765\n",
       "SXF_DAYTIME             0\n",
       "SXF_CLEARSKY_GHI      563\n",
       "SXF_CLOUDINESS        563\n",
       "SXF_GHI              1321\n",
       "dtype: int64"
      ]
     },
     "execution_count": 9,
     "metadata": {},
     "output_type": "execute_result"
    }
   ],
   "source": [
    "data.isnull().sum()"
   ]
  },
  {
   "cell_type": "code",
   "execution_count": 10,
   "metadata": {},
   "outputs": [],
   "source": [
    "#Handling true NaNs"
   ]
  },
  {
   "cell_type": "code",
   "execution_count": 11,
   "metadata": {},
   "outputs": [
    {
     "name": "stdout",
     "output_type": "stream",
     "text": [
      "iso-datetime\n",
      "2010-01-01 00:00:00     True\n",
      "2010-01-01 00:15:00     True\n",
      "2010-01-01 00:30:00     True\n",
      "2010-01-01 00:45:00     True\n",
      "2010-01-01 01:00:00     True\n",
      "                       ...  \n",
      "2015-12-31 22:45:00    False\n",
      "2015-12-31 23:00:00    False\n",
      "2015-12-31 23:15:00    False\n",
      "2015-12-31 23:30:00    False\n",
      "2015-12-31 23:45:00    False\n",
      "Name: ncdf_path, Length: 210336, dtype: bool\n",
      "----------\n",
      "False    173717\n",
      "True      36619\n",
      "Name: ncdf_path, dtype: int64\n"
     ]
    }
   ],
   "source": [
    "ncdf_nan = data[\"ncdf_path\"]=='nan'\n",
    "print(ncdf_nan)\n",
    "print(\"----------\")\n",
    "print(ncdf_nan.value_counts())"
   ]
  },
  {
   "cell_type": "code",
   "execution_count": 12,
   "metadata": {},
   "outputs": [],
   "source": [
    "#the \"nan\" text is fooling the isnull() and insna() methods, so we need to replace \"nan\" text with true python \"NaN\""
   ]
  },
  {
   "cell_type": "code",
   "execution_count": 13,
   "metadata": {},
   "outputs": [
    {
     "data": {
      "text/html": [
       "<div>\n",
       "<style scoped>\n",
       "    .dataframe tbody tr th:only-of-type {\n",
       "        vertical-align: middle;\n",
       "    }\n",
       "\n",
       "    .dataframe tbody tr th {\n",
       "        vertical-align: top;\n",
       "    }\n",
       "\n",
       "    .dataframe thead th {\n",
       "        text-align: right;\n",
       "    }\n",
       "</style>\n",
       "<table border=\"1\" class=\"dataframe\">\n",
       "  <thead>\n",
       "    <tr style=\"text-align: right;\">\n",
       "      <th></th>\n",
       "      <th>ncdf_path</th>\n",
       "      <th>hdf5_8bit_path</th>\n",
       "      <th>hdf5_8bit_offset</th>\n",
       "      <th>hdf5_16bit_path</th>\n",
       "      <th>hdf5_16bit_offset</th>\n",
       "      <th>BND_DAYTIME</th>\n",
       "      <th>BND_CLEARSKY_GHI</th>\n",
       "      <th>BND_CLOUDINESS</th>\n",
       "      <th>BND_GHI</th>\n",
       "    </tr>\n",
       "  </thead>\n",
       "  <tbody>\n",
       "    <tr>\n",
       "      <th>False</th>\n",
       "      <td>210336.0</td>\n",
       "      <td>210336.0</td>\n",
       "      <td>210304</td>\n",
       "      <td>210336.0</td>\n",
       "      <td>210304</td>\n",
       "      <td>210336.0</td>\n",
       "      <td>210100</td>\n",
       "      <td>210100</td>\n",
       "      <td>209948</td>\n",
       "    </tr>\n",
       "    <tr>\n",
       "      <th>True</th>\n",
       "      <td>NaN</td>\n",
       "      <td>NaN</td>\n",
       "      <td>32</td>\n",
       "      <td>NaN</td>\n",
       "      <td>32</td>\n",
       "      <td>NaN</td>\n",
       "      <td>236</td>\n",
       "      <td>236</td>\n",
       "      <td>388</td>\n",
       "    </tr>\n",
       "  </tbody>\n",
       "</table>\n",
       "</div>"
      ],
      "text/plain": [
       "       ncdf_path  hdf5_8bit_path  hdf5_8bit_offset  hdf5_16bit_path  \\\n",
       "False   210336.0        210336.0            210304         210336.0   \n",
       "True         NaN             NaN                32              NaN   \n",
       "\n",
       "       hdf5_16bit_offset  BND_DAYTIME  BND_CLEARSKY_GHI  BND_CLOUDINESS  \\\n",
       "False             210304     210336.0            210100          210100   \n",
       "True                  32          NaN               236             236   \n",
       "\n",
       "       BND_GHI  \n",
       "False   209948  \n",
       "True       388  "
      ]
     },
     "execution_count": 13,
     "metadata": {},
     "output_type": "execute_result"
    }
   ],
   "source": [
    "#Let's have a baseline\n",
    "data.loc[:, 'ncdf_path':'BND_GHI'].isnull().apply(pd.value_counts)"
   ]
  },
  {
   "cell_type": "code",
   "execution_count": 14,
   "metadata": {},
   "outputs": [],
   "source": [
    "data2 = data.replace('nan',np.nan)"
   ]
  },
  {
   "cell_type": "code",
   "execution_count": 15,
   "metadata": {},
   "outputs": [
    {
     "data": {
      "text/html": [
       "<div>\n",
       "<style scoped>\n",
       "    .dataframe tbody tr th:only-of-type {\n",
       "        vertical-align: middle;\n",
       "    }\n",
       "\n",
       "    .dataframe tbody tr th {\n",
       "        vertical-align: top;\n",
       "    }\n",
       "\n",
       "    .dataframe thead th {\n",
       "        text-align: right;\n",
       "    }\n",
       "</style>\n",
       "<table border=\"1\" class=\"dataframe\">\n",
       "  <thead>\n",
       "    <tr style=\"text-align: right;\">\n",
       "      <th></th>\n",
       "      <th>ncdf_path</th>\n",
       "      <th>hdf5_8bit_path</th>\n",
       "      <th>hdf5_8bit_offset</th>\n",
       "      <th>hdf5_16bit_path</th>\n",
       "      <th>hdf5_16bit_offset</th>\n",
       "      <th>BND_DAYTIME</th>\n",
       "      <th>BND_CLEARSKY_GHI</th>\n",
       "      <th>BND_CLOUDINESS</th>\n",
       "      <th>BND_GHI</th>\n",
       "    </tr>\n",
       "  </thead>\n",
       "  <tbody>\n",
       "    <tr>\n",
       "      <th>False</th>\n",
       "      <td>173717</td>\n",
       "      <td>210304</td>\n",
       "      <td>210304</td>\n",
       "      <td>210304</td>\n",
       "      <td>210304</td>\n",
       "      <td>210336.0</td>\n",
       "      <td>210100</td>\n",
       "      <td>210100</td>\n",
       "      <td>209948</td>\n",
       "    </tr>\n",
       "    <tr>\n",
       "      <th>True</th>\n",
       "      <td>36619</td>\n",
       "      <td>32</td>\n",
       "      <td>32</td>\n",
       "      <td>32</td>\n",
       "      <td>32</td>\n",
       "      <td>NaN</td>\n",
       "      <td>236</td>\n",
       "      <td>236</td>\n",
       "      <td>388</td>\n",
       "    </tr>\n",
       "  </tbody>\n",
       "</table>\n",
       "</div>"
      ],
      "text/plain": [
       "       ncdf_path  hdf5_8bit_path  hdf5_8bit_offset  hdf5_16bit_path  \\\n",
       "False     173717          210304            210304           210304   \n",
       "True       36619              32                32               32   \n",
       "\n",
       "       hdf5_16bit_offset  BND_DAYTIME  BND_CLEARSKY_GHI  BND_CLOUDINESS  \\\n",
       "False             210304     210336.0            210100          210100   \n",
       "True                  32          NaN               236             236   \n",
       "\n",
       "       BND_GHI  \n",
       "False   209948  \n",
       "True       388  "
      ]
     },
     "execution_count": 15,
     "metadata": {},
     "output_type": "execute_result"
    }
   ],
   "source": [
    "#Now we will have the true nan be counted\n",
    "data2.loc[:, 'ncdf_path':'BND_GHI'].isnull().apply(pd.value_counts)"
   ]
  },
  {
   "cell_type": "code",
   "execution_count": 16,
   "metadata": {},
   "outputs": [
    {
     "name": "stdout",
     "output_type": "stream",
     "text": [
      "<class 'pandas.core.frame.DataFrame'>\n",
      "DatetimeIndex: 210336 entries, 2010-01-01 00:00:00 to 2015-12-31 23:45:00\n",
      "Data columns (total 4 columns):\n",
      " #   Column            Non-Null Count   Dtype  \n",
      "---  ------            --------------   -----  \n",
      " 0   BND_DAYTIME       210336 non-null  float64\n",
      " 1   BND_CLEARSKY_GHI  210100 non-null  float64\n",
      " 2   BND_CLOUDINESS    210100 non-null  object \n",
      " 3   BND_GHI           209948 non-null  float64\n",
      "dtypes: float64(3), object(1)\n",
      "memory usage: 8.0+ MB\n"
     ]
    }
   ],
   "source": [
    "#Select only BND records\n",
    "BND_data = data2.iloc[:,5:9]\n",
    "BND_data.info()"
   ]
  },
  {
   "cell_type": "code",
   "execution_count": 17,
   "metadata": {},
   "outputs": [
    {
     "data": {
      "text/plain": [
       "BND_DAYTIME           0\n",
       "BND_CLEARSKY_GHI    236\n",
       "BND_CLOUDINESS      236\n",
       "BND_GHI             388\n",
       "dtype: int64"
      ]
     },
     "execution_count": 17,
     "metadata": {},
     "output_type": "execute_result"
    }
   ],
   "source": [
    "#We notice that we have some missing data on BND_GHI column\n",
    "BND_data.isnull().sum()"
   ]
  },
  {
   "cell_type": "code",
   "execution_count": 18,
   "metadata": {},
   "outputs": [
    {
     "data": {
      "text/html": [
       "<div>\n",
       "<style scoped>\n",
       "    .dataframe tbody tr th:only-of-type {\n",
       "        vertical-align: middle;\n",
       "    }\n",
       "\n",
       "    .dataframe tbody tr th {\n",
       "        vertical-align: top;\n",
       "    }\n",
       "\n",
       "    .dataframe thead th {\n",
       "        text-align: right;\n",
       "    }\n",
       "</style>\n",
       "<table border=\"1\" class=\"dataframe\">\n",
       "  <thead>\n",
       "    <tr style=\"text-align: right;\">\n",
       "      <th></th>\n",
       "      <th>BND_DAYTIME</th>\n",
       "      <th>BND_CLEARSKY_GHI</th>\n",
       "      <th>BND_CLOUDINESS</th>\n",
       "      <th>BND_GHI</th>\n",
       "    </tr>\n",
       "    <tr>\n",
       "      <th>iso-datetime</th>\n",
       "      <th></th>\n",
       "      <th></th>\n",
       "      <th></th>\n",
       "      <th></th>\n",
       "    </tr>\n",
       "  </thead>\n",
       "  <tbody>\n",
       "    <tr>\n",
       "      <th>2013-06-06 14:45:00</th>\n",
       "      <td>0.0</td>\n",
       "      <td>NaN</td>\n",
       "      <td>NaN</td>\n",
       "      <td>NaN</td>\n",
       "    </tr>\n",
       "    <tr>\n",
       "      <th>2012-05-30 20:45:00</th>\n",
       "      <td>0.0</td>\n",
       "      <td>NaN</td>\n",
       "      <td>NaN</td>\n",
       "      <td>NaN</td>\n",
       "    </tr>\n",
       "    <tr>\n",
       "      <th>2014-06-12 23:30:00</th>\n",
       "      <td>0.0</td>\n",
       "      <td>NaN</td>\n",
       "      <td>NaN</td>\n",
       "      <td>NaN</td>\n",
       "    </tr>\n",
       "    <tr>\n",
       "      <th>2010-06-11 03:30:00</th>\n",
       "      <td>0.0</td>\n",
       "      <td>0.0</td>\n",
       "      <td>night</td>\n",
       "      <td>NaN</td>\n",
       "    </tr>\n",
       "    <tr>\n",
       "      <th>2011-05-25 21:45:00</th>\n",
       "      <td>0.0</td>\n",
       "      <td>NaN</td>\n",
       "      <td>NaN</td>\n",
       "      <td>NaN</td>\n",
       "    </tr>\n",
       "  </tbody>\n",
       "</table>\n",
       "</div>"
      ],
      "text/plain": [
       "                     BND_DAYTIME  BND_CLEARSKY_GHI BND_CLOUDINESS  BND_GHI\n",
       "iso-datetime                                                              \n",
       "2013-06-06 14:45:00          0.0               NaN            NaN      NaN\n",
       "2012-05-30 20:45:00          0.0               NaN            NaN      NaN\n",
       "2014-06-12 23:30:00          0.0               NaN            NaN      NaN\n",
       "2010-06-11 03:30:00          0.0               0.0          night      NaN\n",
       "2011-05-25 21:45:00          0.0               NaN            NaN      NaN"
      ]
     },
     "execution_count": 18,
     "metadata": {},
     "output_type": "execute_result"
    }
   ],
   "source": [
    "BND_data[BND_data[\"BND_GHI\"].isnull()==True].sample(5)"
   ]
  },
  {
   "cell_type": "code",
   "execution_count": 19,
   "metadata": {},
   "outputs": [
    {
     "data": {
      "text/plain": [
       "<matplotlib.axes._subplots.AxesSubplot at 0x10f335198>"
      ]
     },
     "execution_count": 19,
     "metadata": {},
     "output_type": "execute_result"
    },
    {
     "data": {
      "image/png": "[encoded data removed]",
      "text/plain": [
       "<matplotlib.figure.Figure at 0x10f31f828>"
      ]
     },
     "metadata": {
      "needs_background": "light"
     },
     "output_type": "display_data"
    }
   ],
   "source": [
    "BND_data[0:96*3][[\"BND_CLEARSKY_GHI\",\"BND_GHI\"]].plot()"
   ]
  },
  {
   "cell_type": "code",
   "execution_count": 20,
   "metadata": {},
   "outputs": [
    {
     "data": {
      "text/html": [
       "<div>\n",
       "<style scoped>\n",
       "    .dataframe tbody tr th:only-of-type {\n",
       "        vertical-align: middle;\n",
       "    }\n",
       "\n",
       "    .dataframe tbody tr th {\n",
       "        vertical-align: top;\n",
       "    }\n",
       "\n",
       "    .dataframe thead th {\n",
       "        text-align: right;\n",
       "    }\n",
       "</style>\n",
       "<table border=\"1\" class=\"dataframe\">\n",
       "  <thead>\n",
       "    <tr style=\"text-align: right;\">\n",
       "      <th></th>\n",
       "      <th>BND_DAYTIME</th>\n",
       "      <th>BND_CLEARSKY_GHI</th>\n",
       "      <th>BND_CLOUDINESS</th>\n",
       "      <th>BND_GHI</th>\n",
       "    </tr>\n",
       "    <tr>\n",
       "      <th>iso-datetime</th>\n",
       "      <th></th>\n",
       "      <th></th>\n",
       "      <th></th>\n",
       "      <th></th>\n",
       "    </tr>\n",
       "  </thead>\n",
       "  <tbody>\n",
       "    <tr>\n",
       "      <th>2010-01-13 15:30:00</th>\n",
       "      <td>1.0</td>\n",
       "      <td>302.468454</td>\n",
       "      <td>clear</td>\n",
       "      <td>303.840000</td>\n",
       "    </tr>\n",
       "    <tr>\n",
       "      <th>2010-01-13 05:00:00</th>\n",
       "      <td>0.0</td>\n",
       "      <td>0.000000</td>\n",
       "      <td>night</td>\n",
       "      <td>-3.333333</td>\n",
       "    </tr>\n",
       "    <tr>\n",
       "      <th>2010-01-13 14:15:00</th>\n",
       "      <td>1.0</td>\n",
       "      <td>107.144398</td>\n",
       "      <td>slightly cloudy</td>\n",
       "      <td>112.860000</td>\n",
       "    </tr>\n",
       "    <tr>\n",
       "      <th>2010-01-13 21:15:00</th>\n",
       "      <td>1.0</td>\n",
       "      <td>202.284568</td>\n",
       "      <td>clear</td>\n",
       "      <td>237.480000</td>\n",
       "    </tr>\n",
       "    <tr>\n",
       "      <th>2010-01-13 20:15:00</th>\n",
       "      <td>1.0</td>\n",
       "      <td>345.242285</td>\n",
       "      <td>clear</td>\n",
       "      <td>383.800000</td>\n",
       "    </tr>\n",
       "  </tbody>\n",
       "</table>\n",
       "</div>"
      ],
      "text/plain": [
       "                     BND_DAYTIME  BND_CLEARSKY_GHI   BND_CLOUDINESS  \\\n",
       "iso-datetime                                                          \n",
       "2010-01-13 15:30:00          1.0        302.468454            clear   \n",
       "2010-01-13 05:00:00          0.0          0.000000            night   \n",
       "2010-01-13 14:15:00          1.0        107.144398  slightly cloudy   \n",
       "2010-01-13 21:15:00          1.0        202.284568            clear   \n",
       "2010-01-13 20:15:00          1.0        345.242285            clear   \n",
       "\n",
       "                        BND_GHI  \n",
       "iso-datetime                     \n",
       "2010-01-13 15:30:00  303.840000  \n",
       "2010-01-13 05:00:00   -3.333333  \n",
       "2010-01-13 14:15:00  112.860000  \n",
       "2010-01-13 21:15:00  237.480000  \n",
       "2010-01-13 20:15:00  383.800000  "
      ]
     },
     "execution_count": 20,
     "metadata": {},
     "output_type": "execute_result"
    }
   ],
   "source": [
    "#Let's take the day of 2010-01-13 as an example\n",
    "BND_data13 = BND_data[pd.to_datetime(BND_data.index).date==pd.to_datetime('2010-01-13')]\n",
    "BND_data13.sample(5)"
   ]
  },
  {
   "cell_type": "code",
   "execution_count": 21,
   "metadata": {},
   "outputs": [
    {
     "data": {
      "text/plain": [
       "<matplotlib.axes._subplots.AxesSubplot at 0xb337fd978>"
      ]
     },
     "execution_count": 21,
     "metadata": {},
     "output_type": "execute_result"
    },
    {
     "data": {
      "image/png": "[encoded data removed]",
      "text/plain": [
       "<matplotlib.figure.Figure at 0xb337dbc50>"
      ]
     },
     "metadata": {
      "needs_background": "light"
     },
     "output_type": "display_data"
    }
   ],
   "source": [
    "BND_data13[[\"BND_CLEARSKY_GHI\",\"BND_GHI\"]].plot()"
   ]
  },
  {
   "cell_type": "code",
   "execution_count": 22,
   "metadata": {},
   "outputs": [],
   "source": [
    "#We will use fillna method to replace nans with appropriate values:\n",
    "#Option 1: fill with 0\n",
    "BND_data1 = BND_data.fillna(0)\n",
    "\n",
    "#Option 2: fill with last value\n",
    "BND_data21 = BND_data.fillna(method='ffill')\n",
    "\n",
    "#Option 2: fill with last value\n",
    "BND_data22 = BND_data.fillna(method='bfill')\n",
    "\n",
    "#option 3: fill with interpolation values\n",
    "BND_data31 = BND_data.interpolate(method='time')\n",
    "#BND_data32 = BND_data.interpolate(method='spline', order=2)\n",
    "#BND_data33 = BND_data.interpolate(method='linear',limit_direction='both')\n"
   ]
  },
  {
   "cell_type": "code",
   "execution_count": 23,
   "metadata": {},
   "outputs": [],
   "source": [
    "#print(BND_data1[pd.to_datetime(BND_data.index).date==pd.to_datetime('2010-01-13')][0:5])\n",
    "#print(BND_data2[pd.to_datetime(BND_data.index).date==pd.to_datetime('2010-01-13')][0:5])\n",
    "#print(BND_data31[pd.to_datetime(BND_data.index).date==pd.to_datetime('2010-01-13')][0:5])\n",
    "#print(BND_data32[pd.to_datetime(BND_data.index).date==pd.to_datetime('2010-01-13')][0:5])\n",
    "#print(BND_data33[pd.to_datetime(BND_data.index).date==pd.to_datetime('2010-01-13')][0:5])\n"
   ]
  },
  {
   "cell_type": "code",
   "execution_count": 25,
   "metadata": {},
   "outputs": [
    {
     "data": {
      "text/plain": [
       "<matplotlib.axes._subplots.AxesSubplot at 0xb39fa2588>"
      ]
     },
     "execution_count": 25,
     "metadata": {},
     "output_type": "execute_result"
    },
    {
     "data": {
      "image/png": "[encoded data removed]",
      "text/plain": [
       "<matplotlib.figure.Figure at 0xb35a8db70>"
      ]
     },
     "metadata": {
      "needs_background": "light"
     },
     "output_type": "display_data"
    },
    {
     "data": {
      "image/png": "[encoded data removed]",
      "text/plain": [
       "<matplotlib.figure.Figure at 0xb35aae278>"
      ]
     },
     "metadata": {
      "needs_background": "light"
     },
     "output_type": "display_data"
    },
    {
     "data": {
      "image/png": "[encoded data removed]",
      "text/plain": [
       "<matplotlib.figure.Figure at 0xb47908748>"
      ]
     },
     "metadata": {
      "needs_background": "light"
     },
     "output_type": "display_data"
    },
    {
     "data": {
      "image/png": "[encoded data removed]",
      "text/plain": [
       "<matplotlib.figure.Figure at 0xb36bfa860>"
      ]
     },
     "metadata": {
      "needs_background": "light"
     },
     "output_type": "display_data"
    }
   ],
   "source": [
    "BND_data1[pd.to_datetime(BND_data1.index).date==pd.to_datetime('2010-01-13')].plot()\n",
    "BND_data21[pd.to_datetime(BND_data21.index).date==pd.to_datetime('2010-01-13')].plot()\n",
    "BND_data22[pd.to_datetime(BND_data22.index).date==pd.to_datetime('2010-01-13')].plot()\n",
    "BND_data31[pd.to_datetime(BND_data31.index).date==pd.to_datetime('2010-01-13')].plot()\n",
    "#BND_data32[pd.to_datetime(BND_data33.index).date==pd.to_datetime('2010-01-13')].plot()\n",
    "#BND_data33[pd.to_datetime(BND_data33.index).date==pd.to_datetime('2010-01-13')].plot()"
   ]
  },
  {
   "cell_type": "code",
   "execution_count": 26,
   "metadata": {},
   "outputs": [],
   "source": [
    "#Linear interpolation is smoother than the others, spline took a lot of time to run"
   ]
  },
  {
   "cell_type": "code",
   "execution_count": 50,
   "metadata": {},
   "outputs": [
    {
     "name": "stdout",
     "output_type": "stream",
     "text": [
      "Missing obs within a day : Series([], dtype: int64)\n",
      "Missing day : iso-datetime\n",
      "2010    365.0\n",
      "2011    365.0\n",
      "2012    366.0\n",
      "2013    365.0\n",
      "2014    365.0\n",
      "2015    365.0\n",
      "dtype: float64\n"
     ]
    }
   ],
   "source": [
    "#Verifying missing observations\n",
    "#we shoud have 96 rows perday as we have 4 observations an hour\n",
    "\n",
    "pd.set_option('max_rows', 1000)\n",
    "missing_obs = data2.groupby([pd.to_datetime(data2.index).year,pd.to_datetime(data2.index).month,pd.to_datetime(data2.index).day]).size()\n",
    "print(\"Missing obs within a day :\", obs[obs<96])\n",
    "missing_day = data2.groupby([pd.to_datetime(data2.index).year]).size() #,pd.to_datetime(data2.index).month\n",
    "print(\"Missing day :\", missing_day/(96))\n",
    "\n",
    "#obs[obs!=96]"
   ]
  },
  {
   "cell_type": "code",
   "execution_count": 51,
   "metadata": {},
   "outputs": [],
   "source": [
    "#Conclusion, no day missing nor an observation is missing during the 6 years period"
   ]
  },
  {
   "cell_type": "code",
   "execution_count": 54,
   "metadata": {},
   "outputs": [],
   "source": [
    "#Put all together"
   ]
  },
  {
   "cell_type": "code",
   "execution_count": null,
   "metadata": {},
   "outputs": [],
   "source": [
    "def preprocessing(data):\n",
    "    #1-replacing nan's\n",
    "    \n",
    "    #2-refilling missing data\n",
    "    \n",
    "    #3-removing night time obs\n",
    "        #- Night data: _DAYTIME = 0\n",
    "        #- Data without images\n",
    "    \n",
    "    #4-Data normalization\n",
    "    \n",
    "    return clean_data"
   ]
  },
  {
   "cell_type": "code",
   "execution_count": null,
   "metadata": {},
   "outputs": [],
   "source": [
    "#We have 36619 rows without nCDF images"
   ]
  },
  {
   "cell_type": "code",
   "execution_count": null,
   "metadata": {},
   "outputs": [],
   "source": [
    "\n"
   ]
  },
  {
   "cell_type": "code",
   "execution_count": null,
   "metadata": {},
   "outputs": [],
   "source": []
  }
 ],
 "metadata": {
  "kernelspec": {
   "display_name": "ift6759",
   "language": "python",
   "name": "ift6759"
  },
  "language_info": {
   "codemirror_mode": {
    "name": "ipython",
    "version": 3
   },
   "file_extension": ".py",
   "mimetype": "text/x-python",
   "name": "python",
   "nbconvert_exporter": "python",
   "pygments_lexer": "ipython3",
   "version": "3.6.7"
  }
 },
 "nbformat": 4,
 "nbformat_minor": 2
}
